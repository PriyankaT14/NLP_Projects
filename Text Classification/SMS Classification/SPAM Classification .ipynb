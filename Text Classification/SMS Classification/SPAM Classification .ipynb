{
 "cells": [
  {
   "cell_type": "markdown",
   "id": "692e58e3",
   "metadata": {},
   "source": [
    "## SPAM Classification\n",
    "\n",
    "### Introduction\n",
    "\n",
    "Unstructured text is everywhere, such as emails, chat conversations, websites, and social media. Nevertheless, it’s hard to extract value from this data unless it’s organized in a certain way.\n",
    "\n",
    "Doing so used to be a difficult and expensive process, since it required spending time and resources to manually sort the data.\n",
    "\n",
    "Text classifiers with NLP have proven to be a great alternative to structure textual data in a fast, cost-effective, and scalable way.\n",
    "\n",
    "Text classification also known as text tagging or text categorization is the process of categorizing text into organized groups. By using Natural Language Processing (NLP), text classifiers can automatically analyze text and then assign a set of pre-defined tags or categories based on its content.\n",
    "\n",
    "In this particular project, we are classifying the text as Spam or Ham Using Natural Language Processing for:\n",
    "\n",
    "1.SMS Spam Classification\n",
    "\n",
    "2.Email Spam Classification"
   ]
  },
  {
   "cell_type": "markdown",
   "id": "28a2bd33",
   "metadata": {},
   "source": [
    "### 1. SMS Classification\n",
    "\n",
    "##### Context\n",
    "\n",
    "The SMS Spam Collection is a set of SMS tagged messages that have been collected for SMS Spam research. It contains one set of SMS messages in English of 5,574 messages, tagged acording being ham (legitimate) or spam.\n",
    "\n",
    "###### Content\n",
    "\n",
    "The files contain one message per line. Each line is composed by two columns: v1 contains the label (ham or spam) and v2 contains the raw text.\n",
    "\n",
    "###### Data:\n",
    "\n",
    "Data is downloaded from: \n",
    "\n",
    "##### Technology\n",
    "\n",
    "- Natural Language Processing\n",
    "- Machine Learning\n",
    "\n",
    "##### Packages\n",
    "\n",
    "- Nltk (Natural Language toolkit)\n",
    "- Scikit-Learn\n",
    "- Pandas\n",
    "\n",
    "##### Approach\n",
    "\n",
    "1. Exploratory Data Analysis\n",
    "2. Data Preprocessing\n",
    "3. Text Cleaning\n",
    "4. Removal of StopWords and Punctuations\n",
    "5. Using WordNet Lemmatizer, lemmatized the words\n",
    "6. Use of TF-IDF Vectorizer\n",
    "7. Concept of Scikit-Learn Pipelining\n",
    "8. Model trained using Naive-Bayes Classifer and SVM (Support Vector Machine)\n",
    "\n",
    "##### Predicting on New Text\n",
    "\n",
    "Machine Learning Model is able to classify whether the SMS is Spam or Ham, given a text :-\n",
    "\n",
    "- Text = 'Congratulations, you have won a lottery of Dollar 5000. To Won Text on,555500 '\n",
    "- Result :- Spam\n",
    "\n",
    "\n",
    "##### Future Approach\n",
    "\n",
    "Spam Classification using Deep Learning (RNN)"
   ]
  },
  {
   "cell_type": "markdown",
   "id": "5de954d6",
   "metadata": {},
   "source": [
    "##### Importing Important Libraries"
   ]
  },
  {
   "cell_type": "code",
   "execution_count": 1,
   "id": "a96885a2",
   "metadata": {},
   "outputs": [],
   "source": [
    "# Importing warnings code\n",
    "import warnings\n",
    "warnings.filterwarnings('ignore')\n",
    "\n",
    "# Import important libraries\n",
    "import pandas as pd\n",
    "import numpy as np\n",
    "\n",
    "import matplotlib.pyplot as plt\n",
    "import seaborn as sns\n",
    "\n",
    "import re\n",
    "import string\n",
    "from collections import Counter\n",
    "\n",
    "# Importing NLP Libraries\n",
    "import nltk\n",
    "from nltk.corpus import stopwords\n",
    "from nltk.stem import WordNetLemmatizer\n",
    "# from nltk.tokenize import RegexpTokenizer\n",
    "from nltk import word_tokenize\n",
    "from nltk.stem.porter import PorterStemmer\n",
    "from nltk.stem import WordNetLemmatizer\n",
    "\n",
    "\n",
    "# Importing Machine Learning Libraries\n",
    "from sklearn.feature_extraction.text import CountVectorizer\n",
    "from sklearn.feature_extraction.text import TfidfTransformer, TfidfVectorizer\n",
    "from sklearn.metrics.pairwise import cosine_similarity\n",
    "\n",
    "from sklearn.preprocessing import LabelEncoder\n",
    "from sklearn.model_selection import train_test_split\n",
    "from sklearn.model_selection import GridSearchCV\n",
    "\n",
    "from sklearn.linear_model import LogisticRegression\n",
    "from sklearn.tree import DecisionTreeClassifier\n",
    "from sklearn.ensemble import RandomForestClassifier\n",
    "from sklearn.naive_bayes import GaussianNB\n",
    "\n",
    "from sklearn.metrics import confusion_matrix\n",
    "from sklearn.metrics import accuracy_score\n",
    "from sklearn.metrics import classification_report"
   ]
  },
  {
   "cell_type": "markdown",
   "id": "41bd617a",
   "metadata": {},
   "source": [
    "##### Data Loading"
   ]
  },
  {
   "cell_type": "code",
   "execution_count": 2,
   "id": "89ce17a3",
   "metadata": {},
   "outputs": [
    {
     "data": {
      "text/html": [
       "<div>\n",
       "<style scoped>\n",
       "    .dataframe tbody tr th:only-of-type {\n",
       "        vertical-align: middle;\n",
       "    }\n",
       "\n",
       "    .dataframe tbody tr th {\n",
       "        vertical-align: top;\n",
       "    }\n",
       "\n",
       "    .dataframe thead th {\n",
       "        text-align: right;\n",
       "    }\n",
       "</style>\n",
       "<table border=\"1\" class=\"dataframe\">\n",
       "  <thead>\n",
       "    <tr style=\"text-align: right;\">\n",
       "      <th></th>\n",
       "      <th>v1</th>\n",
       "      <th>v2</th>\n",
       "      <th>Unnamed: 2</th>\n",
       "      <th>Unnamed: 3</th>\n",
       "      <th>Unnamed: 4</th>\n",
       "    </tr>\n",
       "  </thead>\n",
       "  <tbody>\n",
       "    <tr>\n",
       "      <th>0</th>\n",
       "      <td>ham</td>\n",
       "      <td>Go until jurong point, crazy.. Available only ...</td>\n",
       "      <td>NaN</td>\n",
       "      <td>NaN</td>\n",
       "      <td>NaN</td>\n",
       "    </tr>\n",
       "    <tr>\n",
       "      <th>1</th>\n",
       "      <td>ham</td>\n",
       "      <td>Ok lar... Joking wif u oni...</td>\n",
       "      <td>NaN</td>\n",
       "      <td>NaN</td>\n",
       "      <td>NaN</td>\n",
       "    </tr>\n",
       "    <tr>\n",
       "      <th>2</th>\n",
       "      <td>spam</td>\n",
       "      <td>Free entry in 2 a wkly comp to win FA Cup fina...</td>\n",
       "      <td>NaN</td>\n",
       "      <td>NaN</td>\n",
       "      <td>NaN</td>\n",
       "    </tr>\n",
       "    <tr>\n",
       "      <th>3</th>\n",
       "      <td>ham</td>\n",
       "      <td>U dun say so early hor... U c already then say...</td>\n",
       "      <td>NaN</td>\n",
       "      <td>NaN</td>\n",
       "      <td>NaN</td>\n",
       "    </tr>\n",
       "    <tr>\n",
       "      <th>4</th>\n",
       "      <td>ham</td>\n",
       "      <td>Nah I don't think he goes to usf, he lives aro...</td>\n",
       "      <td>NaN</td>\n",
       "      <td>NaN</td>\n",
       "      <td>NaN</td>\n",
       "    </tr>\n",
       "  </tbody>\n",
       "</table>\n",
       "</div>"
      ],
      "text/plain": [
       "     v1                                                 v2 Unnamed: 2  \\\n",
       "0   ham  Go until jurong point, crazy.. Available only ...        NaN   \n",
       "1   ham                      Ok lar... Joking wif u oni...        NaN   \n",
       "2  spam  Free entry in 2 a wkly comp to win FA Cup fina...        NaN   \n",
       "3   ham  U dun say so early hor... U c already then say...        NaN   \n",
       "4   ham  Nah I don't think he goes to usf, he lives aro...        NaN   \n",
       "\n",
       "  Unnamed: 3 Unnamed: 4  \n",
       "0        NaN        NaN  \n",
       "1        NaN        NaN  \n",
       "2        NaN        NaN  \n",
       "3        NaN        NaN  \n",
       "4        NaN        NaN  "
      ]
     },
     "execution_count": 2,
     "metadata": {},
     "output_type": "execute_result"
    }
   ],
   "source": [
    "# Loading data\n",
    "sms_data = pd.read_csv(r'F:\\Priya\\Courses\\Extra Projects\\NLP\\SMS\\spam.csv', encoding='latin-1')\n",
    "sms_data.head()"
   ]
  },
  {
   "cell_type": "code",
   "execution_count": 3,
   "id": "ee81acef",
   "metadata": {},
   "outputs": [
    {
     "data": {
      "text/html": [
       "<div>\n",
       "<style scoped>\n",
       "    .dataframe tbody tr th:only-of-type {\n",
       "        vertical-align: middle;\n",
       "    }\n",
       "\n",
       "    .dataframe tbody tr th {\n",
       "        vertical-align: top;\n",
       "    }\n",
       "\n",
       "    .dataframe thead th {\n",
       "        text-align: right;\n",
       "    }\n",
       "</style>\n",
       "<table border=\"1\" class=\"dataframe\">\n",
       "  <thead>\n",
       "    <tr style=\"text-align: right;\">\n",
       "      <th></th>\n",
       "      <th>v1</th>\n",
       "      <th>v2</th>\n",
       "    </tr>\n",
       "  </thead>\n",
       "  <tbody>\n",
       "    <tr>\n",
       "      <th>0</th>\n",
       "      <td>ham</td>\n",
       "      <td>Go until jurong point, crazy.. Available only ...</td>\n",
       "    </tr>\n",
       "    <tr>\n",
       "      <th>1</th>\n",
       "      <td>ham</td>\n",
       "      <td>Ok lar... Joking wif u oni...</td>\n",
       "    </tr>\n",
       "    <tr>\n",
       "      <th>2</th>\n",
       "      <td>spam</td>\n",
       "      <td>Free entry in 2 a wkly comp to win FA Cup fina...</td>\n",
       "    </tr>\n",
       "  </tbody>\n",
       "</table>\n",
       "</div>"
      ],
      "text/plain": [
       "     v1                                                 v2\n",
       "0   ham  Go until jurong point, crazy.. Available only ...\n",
       "1   ham                      Ok lar... Joking wif u oni...\n",
       "2  spam  Free entry in 2 a wkly comp to win FA Cup fina..."
      ]
     },
     "execution_count": 3,
     "metadata": {},
     "output_type": "execute_result"
    }
   ],
   "source": [
    "sms_data = sms_data.drop(['Unnamed: 2','Unnamed: 3','Unnamed: 4'],axis=1)\n",
    "sms_data.head(3)"
   ]
  },
  {
   "cell_type": "code",
   "execution_count": 4,
   "id": "7ca644b8",
   "metadata": {},
   "outputs": [
    {
     "data": {
      "text/html": [
       "<div>\n",
       "<style scoped>\n",
       "    .dataframe tbody tr th:only-of-type {\n",
       "        vertical-align: middle;\n",
       "    }\n",
       "\n",
       "    .dataframe tbody tr th {\n",
       "        vertical-align: top;\n",
       "    }\n",
       "\n",
       "    .dataframe thead th {\n",
       "        text-align: right;\n",
       "    }\n",
       "</style>\n",
       "<table border=\"1\" class=\"dataframe\">\n",
       "  <thead>\n",
       "    <tr style=\"text-align: right;\">\n",
       "      <th></th>\n",
       "      <th>label</th>\n",
       "      <th>message</th>\n",
       "    </tr>\n",
       "  </thead>\n",
       "  <tbody>\n",
       "    <tr>\n",
       "      <th>0</th>\n",
       "      <td>ham</td>\n",
       "      <td>Go until jurong point, crazy.. Available only ...</td>\n",
       "    </tr>\n",
       "    <tr>\n",
       "      <th>1</th>\n",
       "      <td>ham</td>\n",
       "      <td>Ok lar... Joking wif u oni...</td>\n",
       "    </tr>\n",
       "    <tr>\n",
       "      <th>2</th>\n",
       "      <td>spam</td>\n",
       "      <td>Free entry in 2 a wkly comp to win FA Cup fina...</td>\n",
       "    </tr>\n",
       "  </tbody>\n",
       "</table>\n",
       "</div>"
      ],
      "text/plain": [
       "  label                                            message\n",
       "0   ham  Go until jurong point, crazy.. Available only ...\n",
       "1   ham                      Ok lar... Joking wif u oni...\n",
       "2  spam  Free entry in 2 a wkly comp to win FA Cup fina..."
      ]
     },
     "execution_count": 4,
     "metadata": {},
     "output_type": "execute_result"
    }
   ],
   "source": [
    "sms_data.rename(columns = {'v1':'label', 'v2':'message'}, inplace = True)\n",
    "sms_data.head(3)"
   ]
  },
  {
   "cell_type": "code",
   "execution_count": 5,
   "id": "80266c71",
   "metadata": {},
   "outputs": [
    {
     "data": {
      "text/plain": [
       "(5572, 2)"
      ]
     },
     "execution_count": 5,
     "metadata": {},
     "output_type": "execute_result"
    }
   ],
   "source": [
    "sms_data.shape"
   ]
  },
  {
   "cell_type": "code",
   "execution_count": 6,
   "id": "2131d451",
   "metadata": {},
   "outputs": [
    {
     "name": "stdout",
     "output_type": "stream",
     "text": [
      "<class 'pandas.core.frame.DataFrame'>\n",
      "RangeIndex: 5572 entries, 0 to 5571\n",
      "Data columns (total 2 columns):\n",
      " #   Column   Non-Null Count  Dtype \n",
      "---  ------   --------------  ----- \n",
      " 0   label    5572 non-null   object\n",
      " 1   message  5572 non-null   object\n",
      "dtypes: object(2)\n",
      "memory usage: 87.2+ KB\n"
     ]
    }
   ],
   "source": [
    "sms_data.info()"
   ]
  },
  {
   "cell_type": "code",
   "execution_count": 7,
   "id": "22a8d568",
   "metadata": {},
   "outputs": [
    {
     "data": {
      "text/plain": [
       "label      0\n",
       "message    0\n",
       "dtype: int64"
      ]
     },
     "execution_count": 7,
     "metadata": {},
     "output_type": "execute_result"
    }
   ],
   "source": [
    "sms_data.isnull().sum()"
   ]
  },
  {
   "cell_type": "code",
   "execution_count": 8,
   "id": "c339d262",
   "metadata": {},
   "outputs": [
    {
     "data": {
      "text/plain": [
       "403"
      ]
     },
     "execution_count": 8,
     "metadata": {},
     "output_type": "execute_result"
    }
   ],
   "source": [
    "sms_data.duplicated().sum()"
   ]
  },
  {
   "cell_type": "code",
   "execution_count": 9,
   "id": "25ee7ac9",
   "metadata": {},
   "outputs": [],
   "source": [
    "sms_data = sms_data.drop_duplicates(keep='first')"
   ]
  },
  {
   "cell_type": "code",
   "execution_count": 10,
   "id": "7472b3ad",
   "metadata": {},
   "outputs": [
    {
     "data": {
      "text/plain": [
       "0"
      ]
     },
     "execution_count": 10,
     "metadata": {},
     "output_type": "execute_result"
    }
   ],
   "source": [
    "sms_data.duplicated().sum()"
   ]
  },
  {
   "cell_type": "markdown",
   "id": "68567523",
   "metadata": {},
   "source": [
    "##### EDA"
   ]
  },
  {
   "cell_type": "code",
   "execution_count": 11,
   "id": "3b51c1f4",
   "metadata": {},
   "outputs": [
    {
     "data": {
      "text/plain": [
       "label\n",
       "ham     4516\n",
       "spam     653\n",
       "Name: count, dtype: int64"
      ]
     },
     "execution_count": 11,
     "metadata": {},
     "output_type": "execute_result"
    }
   ],
   "source": [
    "sms_data['label'].value_counts()"
   ]
  },
  {
   "cell_type": "code",
   "execution_count": 12,
   "id": "276f0b48",
   "metadata": {},
   "outputs": [
    {
     "data": {
      "image/png": "[encoded data removed]",
      "text/plain": [
       "<Figure size 500x400 with 1 Axes>"
      ]
     },
     "metadata": {},
     "output_type": "display_data"
    }
   ],
   "source": [
    "plt.figure(figsize=(5,4))\n",
    "ax=sns.countplot(x='label', data=sms_data, palette= [\"#7fcdbb\", \"#edf8b1\"])\n",
    "for p in ax.patches:\n",
    "    ax.annotate(str(p.get_height()), (p.get_x() * 1.005, p.get_height() * 1.005))\n",
    "plt.show()"
   ]
  },
  {
   "cell_type": "code",
   "execution_count": 13,
   "id": "66afc465",
   "metadata": {},
   "outputs": [
    {
     "data": {
      "image/png": "[encoded data removed]",
      "text/plain": [
       "<Figure size 700x500 with 1 Axes>"
      ]
     },
     "metadata": {},
     "output_type": "display_data"
    }
   ],
   "source": [
    "plt.figure(figsize=(7,5))\n",
    "plt.pie(sms_data['label'].value_counts(), labels=['ham','spam'], autopct='%0.2f%%', colors=sns.color_palette('Set2'), explode=[0.05, 0.05])\n",
    "# colors=['gold', 'cornflowerblue']\n",
    "plt.show()"
   ]
  },
  {
   "cell_type": "code",
   "execution_count": 14,
   "id": "09d751d6",
   "metadata": {},
   "outputs": [
    {
     "data": {
      "text/html": [
       "<div>\n",
       "<style scoped>\n",
       "    .dataframe tbody tr th:only-of-type {\n",
       "        vertical-align: middle;\n",
       "    }\n",
       "\n",
       "    .dataframe tbody tr th {\n",
       "        vertical-align: top;\n",
       "    }\n",
       "\n",
       "    .dataframe thead th {\n",
       "        text-align: right;\n",
       "    }\n",
       "</style>\n",
       "<table border=\"1\" class=\"dataframe\">\n",
       "  <thead>\n",
       "    <tr style=\"text-align: right;\">\n",
       "      <th></th>\n",
       "      <th>label</th>\n",
       "      <th>message</th>\n",
       "    </tr>\n",
       "  </thead>\n",
       "  <tbody>\n",
       "    <tr>\n",
       "      <th>0</th>\n",
       "      <td>0</td>\n",
       "      <td>Go until jurong point, crazy.. Available only ...</td>\n",
       "    </tr>\n",
       "    <tr>\n",
       "      <th>1</th>\n",
       "      <td>0</td>\n",
       "      <td>Ok lar... Joking wif u oni...</td>\n",
       "    </tr>\n",
       "    <tr>\n",
       "      <th>2</th>\n",
       "      <td>1</td>\n",
       "      <td>Free entry in 2 a wkly comp to win FA Cup fina...</td>\n",
       "    </tr>\n",
       "    <tr>\n",
       "      <th>3</th>\n",
       "      <td>0</td>\n",
       "      <td>U dun say so early hor... U c already then say...</td>\n",
       "    </tr>\n",
       "    <tr>\n",
       "      <th>4</th>\n",
       "      <td>0</td>\n",
       "      <td>Nah I don't think he goes to usf, he lives aro...</td>\n",
       "    </tr>\n",
       "  </tbody>\n",
       "</table>\n",
       "</div>"
      ],
      "text/plain": [
       "   label                                            message\n",
       "0      0  Go until jurong point, crazy.. Available only ...\n",
       "1      0                      Ok lar... Joking wif u oni...\n",
       "2      1  Free entry in 2 a wkly comp to win FA Cup fina...\n",
       "3      0  U dun say so early hor... U c already then say...\n",
       "4      0  Nah I don't think he goes to usf, he lives aro..."
      ]
     },
     "execution_count": 14,
     "metadata": {},
     "output_type": "execute_result"
    }
   ],
   "source": [
    "sms_data = sms_data.replace(['ham','spam'],[0, 1]) \n",
    "sms_data.head()"
   ]
  },
  {
   "cell_type": "code",
   "execution_count": 15,
   "id": "100f9d3f",
   "metadata": {},
   "outputs": [
    {
     "data": {
      "text/plain": [
       "label\n",
       "0    4516\n",
       "1     653\n",
       "Name: count, dtype: int64"
      ]
     },
     "execution_count": 15,
     "metadata": {},
     "output_type": "execute_result"
    }
   ],
   "source": [
    "sms_data['label'].value_counts()"
   ]
  },
  {
   "cell_type": "markdown",
   "id": "96465b1c",
   "metadata": {},
   "source": [
    "##### Extracting Features\n",
    "1. SMS/Message length\n",
    "2. Total Words in SMS/Message\n",
    "3. Total Sentences\n",
    "4. Toatal Punctuations\n",
    "5. Stopwords.\n"
   ]
  },
  {
   "cell_type": "code",
   "execution_count": 16,
   "id": "6624d934",
   "metadata": {},
   "outputs": [],
   "source": [
    "sms_data['message_length'] = sms_data['message'].apply(len)\n",
    "\n",
    "# sms_data['message_length'] = 0\n",
    "# for i in range(len(sms_data.message)):\n",
    "#     sms_data.loc[i,'message_length'] = len(sms_data.loc[i,'message'])"
   ]
  },
  {
   "cell_type": "code",
   "execution_count": 17,
   "id": "2939b930",
   "metadata": {},
   "outputs": [
    {
     "data": {
      "text/html": [
       "<div>\n",
       "<style scoped>\n",
       "    .dataframe tbody tr th:only-of-type {\n",
       "        vertical-align: middle;\n",
       "    }\n",
       "\n",
       "    .dataframe tbody tr th {\n",
       "        vertical-align: top;\n",
       "    }\n",
       "\n",
       "    .dataframe thead th {\n",
       "        text-align: right;\n",
       "    }\n",
       "</style>\n",
       "<table border=\"1\" class=\"dataframe\">\n",
       "  <thead>\n",
       "    <tr style=\"text-align: right;\">\n",
       "      <th></th>\n",
       "      <th>label</th>\n",
       "      <th>message</th>\n",
       "      <th>message_length</th>\n",
       "    </tr>\n",
       "  </thead>\n",
       "  <tbody>\n",
       "    <tr>\n",
       "      <th>0</th>\n",
       "      <td>0</td>\n",
       "      <td>Go until jurong point, crazy.. Available only ...</td>\n",
       "      <td>111</td>\n",
       "    </tr>\n",
       "    <tr>\n",
       "      <th>1</th>\n",
       "      <td>0</td>\n",
       "      <td>Ok lar... Joking wif u oni...</td>\n",
       "      <td>29</td>\n",
       "    </tr>\n",
       "    <tr>\n",
       "      <th>2</th>\n",
       "      <td>1</td>\n",
       "      <td>Free entry in 2 a wkly comp to win FA Cup fina...</td>\n",
       "      <td>155</td>\n",
       "    </tr>\n",
       "    <tr>\n",
       "      <th>3</th>\n",
       "      <td>0</td>\n",
       "      <td>U dun say so early hor... U c already then say...</td>\n",
       "      <td>49</td>\n",
       "    </tr>\n",
       "    <tr>\n",
       "      <th>4</th>\n",
       "      <td>0</td>\n",
       "      <td>Nah I don't think he goes to usf, he lives aro...</td>\n",
       "      <td>61</td>\n",
       "    </tr>\n",
       "  </tbody>\n",
       "</table>\n",
       "</div>"
      ],
      "text/plain": [
       "   label                                            message  message_length\n",
       "0      0  Go until jurong point, crazy.. Available only ...             111\n",
       "1      0                      Ok lar... Joking wif u oni...              29\n",
       "2      1  Free entry in 2 a wkly comp to win FA Cup fina...             155\n",
       "3      0  U dun say so early hor... U c already then say...              49\n",
       "4      0  Nah I don't think he goes to usf, he lives aro...              61"
      ]
     },
     "execution_count": 17,
     "metadata": {},
     "output_type": "execute_result"
    }
   ],
   "source": [
    "sms_data.head()"
   ]
  },
  {
   "cell_type": "code",
   "execution_count": 18,
   "id": "235d0150",
   "metadata": {},
   "outputs": [],
   "source": [
    "# nltk.download('punkt')"
   ]
  },
  {
   "cell_type": "code",
   "execution_count": 19,
   "id": "5c6ec3a5",
   "metadata": {},
   "outputs": [],
   "source": [
    "sms_data['message_words_count'] = sms_data['message'].apply(lambda x: len(nltk.word_tokenize(x)))\n",
    "sms_data['message_sentences'] = sms_data['message'].apply(lambda x: len(nltk.sent_tokenize(x)))"
   ]
  },
  {
   "cell_type": "code",
   "execution_count": 20,
   "id": "119fd517",
   "metadata": {},
   "outputs": [],
   "source": [
    "punct = []\n",
    "for msg in sms_data['message']:\n",
    "    count = sum(1 for char in msg if char in string.punctuation)\n",
    "    punct.append(count)\n",
    "    \n",
    "sms_data['message_punctuation'] = punct  "
   ]
  },
  {
   "cell_type": "code",
   "execution_count": 21,
   "id": "9be18bdf",
   "metadata": {
    "scrolled": true
   },
   "outputs": [
    {
     "data": {
      "text/html": [
       "<div>\n",
       "<style scoped>\n",
       "    .dataframe tbody tr th:only-of-type {\n",
       "        vertical-align: middle;\n",
       "    }\n",
       "\n",
       "    .dataframe tbody tr th {\n",
       "        vertical-align: top;\n",
       "    }\n",
       "\n",
       "    .dataframe thead th {\n",
       "        text-align: right;\n",
       "    }\n",
       "</style>\n",
       "<table border=\"1\" class=\"dataframe\">\n",
       "  <thead>\n",
       "    <tr style=\"text-align: right;\">\n",
       "      <th></th>\n",
       "      <th>label</th>\n",
       "      <th>message</th>\n",
       "      <th>message_length</th>\n",
       "      <th>message_words_count</th>\n",
       "      <th>message_sentences</th>\n",
       "      <th>message_punctuation</th>\n",
       "    </tr>\n",
       "  </thead>\n",
       "  <tbody>\n",
       "    <tr>\n",
       "      <th>0</th>\n",
       "      <td>0</td>\n",
       "      <td>Go until jurong point, crazy.. Available only ...</td>\n",
       "      <td>111</td>\n",
       "      <td>24</td>\n",
       "      <td>2</td>\n",
       "      <td>9</td>\n",
       "    </tr>\n",
       "    <tr>\n",
       "      <th>1</th>\n",
       "      <td>0</td>\n",
       "      <td>Ok lar... Joking wif u oni...</td>\n",
       "      <td>29</td>\n",
       "      <td>8</td>\n",
       "      <td>2</td>\n",
       "      <td>6</td>\n",
       "    </tr>\n",
       "    <tr>\n",
       "      <th>2</th>\n",
       "      <td>1</td>\n",
       "      <td>Free entry in 2 a wkly comp to win FA Cup fina...</td>\n",
       "      <td>155</td>\n",
       "      <td>37</td>\n",
       "      <td>2</td>\n",
       "      <td>6</td>\n",
       "    </tr>\n",
       "    <tr>\n",
       "      <th>3</th>\n",
       "      <td>0</td>\n",
       "      <td>U dun say so early hor... U c already then say...</td>\n",
       "      <td>49</td>\n",
       "      <td>13</td>\n",
       "      <td>1</td>\n",
       "      <td>6</td>\n",
       "    </tr>\n",
       "    <tr>\n",
       "      <th>4</th>\n",
       "      <td>0</td>\n",
       "      <td>Nah I don't think he goes to usf, he lives aro...</td>\n",
       "      <td>61</td>\n",
       "      <td>15</td>\n",
       "      <td>1</td>\n",
       "      <td>2</td>\n",
       "    </tr>\n",
       "  </tbody>\n",
       "</table>\n",
       "</div>"
      ],
      "text/plain": [
       "   label                                            message  message_length  \\\n",
       "0      0  Go until jurong point, crazy.. Available only ...             111   \n",
       "1      0                      Ok lar... Joking wif u oni...              29   \n",
       "2      1  Free entry in 2 a wkly comp to win FA Cup fina...             155   \n",
       "3      0  U dun say so early hor... U c already then say...              49   \n",
       "4      0  Nah I don't think he goes to usf, he lives aro...              61   \n",
       "\n",
       "   message_words_count  message_sentences  message_punctuation  \n",
       "0                   24                  2                    9  \n",
       "1                    8                  2                    6  \n",
       "2                   37                  2                    6  \n",
       "3                   13                  1                    6  \n",
       "4                   15                  1                    2  "
      ]
     },
     "execution_count": 21,
     "metadata": {},
     "output_type": "execute_result"
    }
   ],
   "source": [
    "sms_data.head()"
   ]
  },
  {
   "cell_type": "code",
   "execution_count": 22,
   "id": "40ee9653",
   "metadata": {},
   "outputs": [
    {
     "data": {
      "text/html": [
       "<div>\n",
       "<style scoped>\n",
       "    .dataframe tbody tr th:only-of-type {\n",
       "        vertical-align: middle;\n",
       "    }\n",
       "\n",
       "    .dataframe tbody tr th {\n",
       "        vertical-align: top;\n",
       "    }\n",
       "\n",
       "    .dataframe thead th {\n",
       "        text-align: right;\n",
       "    }\n",
       "</style>\n",
       "<table border=\"1\" class=\"dataframe\">\n",
       "  <thead>\n",
       "    <tr style=\"text-align: right;\">\n",
       "      <th></th>\n",
       "      <th>message_length</th>\n",
       "      <th>message_words_count</th>\n",
       "      <th>message_sentences</th>\n",
       "      <th>message_punctuation</th>\n",
       "    </tr>\n",
       "  </thead>\n",
       "  <tbody>\n",
       "    <tr>\n",
       "      <th>count</th>\n",
       "      <td>4516.000000</td>\n",
       "      <td>4516.000000</td>\n",
       "      <td>4516.000000</td>\n",
       "      <td>4516.00000</td>\n",
       "    </tr>\n",
       "    <tr>\n",
       "      <th>mean</th>\n",
       "      <td>70.459256</td>\n",
       "      <td>17.120903</td>\n",
       "      <td>1.799601</td>\n",
       "      <td>3.86581</td>\n",
       "    </tr>\n",
       "    <tr>\n",
       "      <th>std</th>\n",
       "      <td>56.358207</td>\n",
       "      <td>13.493725</td>\n",
       "      <td>1.278465</td>\n",
       "      <td>4.52126</td>\n",
       "    </tr>\n",
       "    <tr>\n",
       "      <th>min</th>\n",
       "      <td>2.000000</td>\n",
       "      <td>1.000000</td>\n",
       "      <td>1.000000</td>\n",
       "      <td>0.00000</td>\n",
       "    </tr>\n",
       "    <tr>\n",
       "      <th>25%</th>\n",
       "      <td>34.000000</td>\n",
       "      <td>8.000000</td>\n",
       "      <td>1.000000</td>\n",
       "      <td>1.00000</td>\n",
       "    </tr>\n",
       "    <tr>\n",
       "      <th>50%</th>\n",
       "      <td>52.000000</td>\n",
       "      <td>13.000000</td>\n",
       "      <td>1.000000</td>\n",
       "      <td>3.00000</td>\n",
       "    </tr>\n",
       "    <tr>\n",
       "      <th>75%</th>\n",
       "      <td>90.000000</td>\n",
       "      <td>22.000000</td>\n",
       "      <td>2.000000</td>\n",
       "      <td>5.00000</td>\n",
       "    </tr>\n",
       "    <tr>\n",
       "      <th>max</th>\n",
       "      <td>910.000000</td>\n",
       "      <td>220.000000</td>\n",
       "      <td>28.000000</td>\n",
       "      <td>133.00000</td>\n",
       "    </tr>\n",
       "  </tbody>\n",
       "</table>\n",
       "</div>"
      ],
      "text/plain": [
       "       message_length  message_words_count  message_sentences  \\\n",
       "count     4516.000000          4516.000000        4516.000000   \n",
       "mean        70.459256            17.120903           1.799601   \n",
       "std         56.358207            13.493725           1.278465   \n",
       "min          2.000000             1.000000           1.000000   \n",
       "25%         34.000000             8.000000           1.000000   \n",
       "50%         52.000000            13.000000           1.000000   \n",
       "75%         90.000000            22.000000           2.000000   \n",
       "max        910.000000           220.000000          28.000000   \n",
       "\n",
       "       message_punctuation  \n",
       "count           4516.00000  \n",
       "mean               3.86581  \n",
       "std                4.52126  \n",
       "min                0.00000  \n",
       "25%                1.00000  \n",
       "50%                3.00000  \n",
       "75%                5.00000  \n",
       "max              133.00000  "
      ]
     },
     "execution_count": 22,
     "metadata": {},
     "output_type": "execute_result"
    }
   ],
   "source": [
    "sms_data[sms_data['label']==0][['message_length','message_words_count','message_sentences', 'message_punctuation']].describe()"
   ]
  },
  {
   "cell_type": "markdown",
   "id": "0cf98851",
   "metadata": {},
   "source": [
    "__Insight:__\n",
    "\n",
    "| Insights Feature | HAM Message | SPAM Message |\n",
    "|:---|---:|---:|\n",
    "| Average length | 70 | 137 |\n",
    "| Minimum characters | 2 | 13 |\n",
    "| Maximum length | 910 | 224 |\n",
    "| Average senteneces | 2 | 3 |\n",
    "| Minimum sentences | 1 | 1 |\n",
    "| Maximum sentences | 28 | 8 |\n",
    "| Average words | 17 | 28 |\n",
    "| Minimum words | 1 | 2 |\n",
    "| Maximum words | 220 | 46 |"
   ]
  },
  {
   "cell_type": "code",
   "execution_count": 23,
   "id": "4e79362b",
   "metadata": {},
   "outputs": [
    {
     "data": {
      "text/html": [
       "<div>\n",
       "<style scoped>\n",
       "    .dataframe tbody tr th:only-of-type {\n",
       "        vertical-align: middle;\n",
       "    }\n",
       "\n",
       "    .dataframe tbody tr th {\n",
       "        vertical-align: top;\n",
       "    }\n",
       "\n",
       "    .dataframe thead th {\n",
       "        text-align: right;\n",
       "    }\n",
       "</style>\n",
       "<table border=\"1\" class=\"dataframe\">\n",
       "  <thead>\n",
       "    <tr style=\"text-align: right;\">\n",
       "      <th></th>\n",
       "      <th>message_length</th>\n",
       "      <th>message_words_count</th>\n",
       "      <th>message_sentences</th>\n",
       "      <th>message_punctuation</th>\n",
       "    </tr>\n",
       "  </thead>\n",
       "  <tbody>\n",
       "    <tr>\n",
       "      <th>count</th>\n",
       "      <td>653.000000</td>\n",
       "      <td>653.000000</td>\n",
       "      <td>653.000000</td>\n",
       "      <td>653.000000</td>\n",
       "    </tr>\n",
       "    <tr>\n",
       "      <th>mean</th>\n",
       "      <td>137.891271</td>\n",
       "      <td>27.667688</td>\n",
       "      <td>2.967841</td>\n",
       "      <td>5.649311</td>\n",
       "    </tr>\n",
       "    <tr>\n",
       "      <th>std</th>\n",
       "      <td>30.137753</td>\n",
       "      <td>7.008418</td>\n",
       "      <td>1.483201</td>\n",
       "      <td>3.493353</td>\n",
       "    </tr>\n",
       "    <tr>\n",
       "      <th>min</th>\n",
       "      <td>13.000000</td>\n",
       "      <td>2.000000</td>\n",
       "      <td>1.000000</td>\n",
       "      <td>0.000000</td>\n",
       "    </tr>\n",
       "    <tr>\n",
       "      <th>25%</th>\n",
       "      <td>132.000000</td>\n",
       "      <td>25.000000</td>\n",
       "      <td>2.000000</td>\n",
       "      <td>3.000000</td>\n",
       "    </tr>\n",
       "    <tr>\n",
       "      <th>50%</th>\n",
       "      <td>149.000000</td>\n",
       "      <td>29.000000</td>\n",
       "      <td>3.000000</td>\n",
       "      <td>5.000000</td>\n",
       "    </tr>\n",
       "    <tr>\n",
       "      <th>75%</th>\n",
       "      <td>157.000000</td>\n",
       "      <td>32.000000</td>\n",
       "      <td>4.000000</td>\n",
       "      <td>8.000000</td>\n",
       "    </tr>\n",
       "    <tr>\n",
       "      <th>max</th>\n",
       "      <td>224.000000</td>\n",
       "      <td>46.000000</td>\n",
       "      <td>8.000000</td>\n",
       "      <td>26.000000</td>\n",
       "    </tr>\n",
       "  </tbody>\n",
       "</table>\n",
       "</div>"
      ],
      "text/plain": [
       "       message_length  message_words_count  message_sentences  \\\n",
       "count      653.000000           653.000000         653.000000   \n",
       "mean       137.891271            27.667688           2.967841   \n",
       "std         30.137753             7.008418           1.483201   \n",
       "min         13.000000             2.000000           1.000000   \n",
       "25%        132.000000            25.000000           2.000000   \n",
       "50%        149.000000            29.000000           3.000000   \n",
       "75%        157.000000            32.000000           4.000000   \n",
       "max        224.000000            46.000000           8.000000   \n",
       "\n",
       "       message_punctuation  \n",
       "count           653.000000  \n",
       "mean              5.649311  \n",
       "std               3.493353  \n",
       "min               0.000000  \n",
       "25%               3.000000  \n",
       "50%               5.000000  \n",
       "75%               8.000000  \n",
       "max              26.000000  "
      ]
     },
     "execution_count": 23,
     "metadata": {},
     "output_type": "execute_result"
    }
   ],
   "source": [
    "sms_data[sms_data['label']==1][['message_length','message_words_count','message_sentences', 'message_punctuation']].describe()"
   ]
  },
  {
   "cell_type": "markdown",
   "id": "c6e74255",
   "metadata": {},
   "source": [
    "##### Histogram Plots "
   ]
  },
  {
   "cell_type": "code",
   "execution_count": 24,
   "id": "22d65f00",
   "metadata": {},
   "outputs": [
    {
     "data": {
      "image/png": "[encoded data removed]",
      "text/plain": [
       "<Figure size 1500x500 with 1 Axes>"
      ]
     },
     "metadata": {},
     "output_type": "display_data"
    }
   ],
   "source": [
    "plt.figure(figsize=(15,5))\n",
    "sns.histplot(sms_data[sms_data['label']==0]['message_length'], color='cyan')\n",
    "sns.histplot(sms_data[sms_data['label']==1]['message_length'], color='yellow')\n",
    "plt.show()"
   ]
  },
  {
   "cell_type": "code",
   "execution_count": 25,
   "id": "b5f6cc90",
   "metadata": {},
   "outputs": [
    {
     "data": {
      "image/png": "[encoded data removed]",
      "text/plain": [
       "<Figure size 1500x500 with 1 Axes>"
      ]
     },
     "metadata": {},
     "output_type": "display_data"
    }
   ],
   "source": [
    "plt.figure(figsize=(15,5))\n",
    "sns.histplot(sms_data[sms_data['label']==0]['message_words_count'], color='pink')\n",
    "sns.histplot(sms_data[sms_data['label']==1]['message_words_count'], color='magenta')\n",
    "plt.show()"
   ]
  },
  {
   "cell_type": "code",
   "execution_count": 26,
   "id": "77774d37",
   "metadata": {},
   "outputs": [],
   "source": [
    "def message_word_count(data):\n",
    "    word_counter = Counter([word for sentence in data for word in sentence.split()])\n",
    "    most_count = word_counter.most_common(30)\n",
    "    most_count = pd.DataFrame(most_count, columns = ['Word', 'Count']).sort_values(by = \"Count\")\n",
    "    most_count = most_count.sort_values(by = 'Count', ascending = False)\n",
    "    \n",
    "    print(most_count)\n",
    "    \n",
    "    plt.figure(figsize=(15,5))\n",
    "    ax=sns.barplot(x='Word',y='Count',data=most_count, palette='rainbow')\n",
    "    plt.title('Count of Words')\n",
    "    plt.xlabel('Word')\n",
    "    plt.ylabel('Count')\n",
    "    plt.xticks(rotation=90)\n",
    "\n",
    "    for p in ax.patches:\n",
    "        ax.annotate(str(p.get_height()), (p.get_x() * 1.005, p.get_height() * 1.005))\n",
    "\n",
    "    plt.show()"
   ]
  },
  {
   "cell_type": "code",
   "execution_count": 27,
   "id": "b9963efc",
   "metadata": {},
   "outputs": [
    {
     "name": "stdout",
     "output_type": "stream",
     "text": [
      "    Word  Count\n",
      "0     to   1972\n",
      "1    you   1562\n",
      "2      I   1375\n",
      "3      a   1198\n",
      "4    the   1114\n",
      "5    and    814\n",
      "6     in    731\n",
      "7      i    720\n",
      "8     is    691\n",
      "9      u    614\n",
      "10   for    604\n",
      "11    my    579\n",
      "12    me    532\n",
      "13    of    531\n",
      "14  your    517\n",
      "15  have    447\n",
      "16    on    446\n",
      "17     2    423\n",
      "18  that    407\n",
      "19    it    376\n",
      "20   are    371\n",
      "21    be    349\n",
      "22    at    341\n",
      "23    or    335\n",
      "24   not    320\n",
      "25  with    316\n",
      "26   get    313\n",
      "27  call    310\n",
      "28  will    301\n",
      "29   can    291\n"
     ]
    },
    {
     "data": {
      "image/png": "[encoded data removed]",
      "text/plain": [
       "<Figure size 1500x500 with 1 Axes>"
      ]
     },
     "metadata": {},
     "output_type": "display_data"
    }
   ],
   "source": [
    "message_word_count(sms_data[\"message\"])"
   ]
  },
  {
   "cell_type": "code",
   "execution_count": 28,
   "id": "3ab7ebd0",
   "metadata": {},
   "outputs": [],
   "source": [
    "# nltk.download('stopwords')"
   ]
  },
  {
   "cell_type": "code",
   "execution_count": 29,
   "id": "50567187",
   "metadata": {},
   "outputs": [],
   "source": [
    "# nltk.download('wordnet')"
   ]
  },
  {
   "cell_type": "code",
   "execution_count": 30,
   "id": "9f7ab6f5",
   "metadata": {},
   "outputs": [],
   "source": [
    "# nltk.download('omw-1.4')"
   ]
  },
  {
   "cell_type": "code",
   "execution_count": 31,
   "id": "925958c6",
   "metadata": {},
   "outputs": [],
   "source": [
    "# corpus = []\n",
    "# ps = PorterStemmer()\n",
    "\n",
    "# for msg in sms_data['message']:\n",
    "#     stem_msg = re.sub('[^a-zA-Z]', ' ', msg)\n",
    "#     stem_msg = stem_msg.lower()\n",
    "#     stem_msg = stem_msg.split()\n",
    "#     stem_msg = [ps.stem(word) for word in stem_msg if not word in (stopwords.words('english') and string.punctuation)]\n",
    "#     stem_msg = ' '.join(stem_msg)\n",
    "#     corpus.append(stem_msg)"
   ]
  },
  {
   "cell_type": "markdown",
   "id": "b9e64377",
   "metadata": {},
   "source": [
    "##### Removing Stopwords"
   ]
  },
  {
   "cell_type": "code",
   "execution_count": 32,
   "id": "00718629",
   "metadata": {},
   "outputs": [],
   "source": [
    "def message_processed(text):\n",
    "#    corpus = []\n",
    "#    ps = PorterStemmer()\n",
    "    lemma=WordNetLemmatizer() \n",
    "    # for msg in data_frame[text_column]:\n",
    "    text = re.sub('[^a-zA-Z]', ' ', text)\n",
    "#    text=re.sub(\"U\", \"you\", text)\n",
    "#    text=re.sub(\"R\", \"are\", text)\n",
    "    text = text.lower()\n",
    "    \n",
    "#    text=re.sub(\"s\", \"yes\", text)\n",
    "#    text=re.sub(\"ur\", \"your\", text)\n",
    "#    text=re.sub(\"wif\", \"with\", text)\n",
    "#    text=re.sub(\"wkly\", \"weekly\", text)\n",
    "#    text=re.sub(\"hor\", \"hour\", text)\n",
    "#    text=re.sub(\"comp\", \"competition\", text)\n",
    "#    text=re.sub(\"u'r\", \"you are\", text)\n",
    "#    text=re.sub(\"wanna\", \"wanted to\", text)\n",
    "#    text=re.sub(\"c\", \"see\", text)\n",
    "#    text=re.sub(\"gt\", \"great\", text)\n",
    "#    text=re.sub(\"gn\", \"good night\", text)\n",
    "#    text=re.sub(\"ge\", \"good evening\", text)\n",
    "#    text=re.sub(\"gm\", \"good morning\", text)\n",
    "#    text=re.sub(\"juzz\", \"just\", text)\n",
    "    \n",
    "    text=text.replace('₹', ' rupee ')\n",
    "    text=text.replace('%', ' percent')\n",
    "    text=text.replace('$', ' dollar ')\n",
    "    text=text.replace('€', ' euro ')\n",
    "    text=text.replace('@', ' at ')\n",
    "    \n",
    "    text = text.split()\n",
    "#    text = [ps.stem(word) for word in text if not word in (stopwords.words('english') and string.punctuation)]\n",
    "    text = [lemma.lemmatize(word) for word in text if not word in (stopwords.words('english') and string.punctuation)]\n",
    "    text = ' '.join(text)\n",
    "##    data_frame['corpus'] = corpus\n",
    "    return text"
   ]
  },
  {
   "cell_type": "markdown",
   "id": "2922ea5f",
   "metadata": {},
   "source": [
    "##### Cleaned Message/SMS"
   ]
  },
  {
   "cell_type": "code",
   "execution_count": 33,
   "id": "47594cca",
   "metadata": {},
   "outputs": [
    {
     "data": {
      "text/html": [
       "<div>\n",
       "<style scoped>\n",
       "    .dataframe tbody tr th:only-of-type {\n",
       "        vertical-align: middle;\n",
       "    }\n",
       "\n",
       "    .dataframe tbody tr th {\n",
       "        vertical-align: top;\n",
       "    }\n",
       "\n",
       "    .dataframe thead th {\n",
       "        text-align: right;\n",
       "    }\n",
       "</style>\n",
       "<table border=\"1\" class=\"dataframe\">\n",
       "  <thead>\n",
       "    <tr style=\"text-align: right;\">\n",
       "      <th></th>\n",
       "      <th>message</th>\n",
       "      <th>message_cleaned</th>\n",
       "    </tr>\n",
       "  </thead>\n",
       "  <tbody>\n",
       "    <tr>\n",
       "      <th>0</th>\n",
       "      <td>Go until jurong point, crazy.. Available only ...</td>\n",
       "      <td>go until jurong point crazy available only in ...</td>\n",
       "    </tr>\n",
       "    <tr>\n",
       "      <th>1</th>\n",
       "      <td>Ok lar... Joking wif u oni...</td>\n",
       "      <td>ok lar joking wif u oni</td>\n",
       "    </tr>\n",
       "    <tr>\n",
       "      <th>2</th>\n",
       "      <td>Free entry in 2 a wkly comp to win FA Cup fina...</td>\n",
       "      <td>free entry in a wkly comp to win fa cup final ...</td>\n",
       "    </tr>\n",
       "    <tr>\n",
       "      <th>3</th>\n",
       "      <td>U dun say so early hor... U c already then say...</td>\n",
       "      <td>u dun say so early hor u c already then say</td>\n",
       "    </tr>\n",
       "    <tr>\n",
       "      <th>4</th>\n",
       "      <td>Nah I don't think he goes to usf, he lives aro...</td>\n",
       "      <td>nah i don t think he go to usf he life around ...</td>\n",
       "    </tr>\n",
       "    <tr>\n",
       "      <th>5</th>\n",
       "      <td>FreeMsg Hey there darling it's been 3 week's n...</td>\n",
       "      <td>freemsg hey there darling it s been week s now...</td>\n",
       "    </tr>\n",
       "    <tr>\n",
       "      <th>6</th>\n",
       "      <td>Even my brother is not like to speak with me. ...</td>\n",
       "      <td>even my brother is not like to speak with me t...</td>\n",
       "    </tr>\n",
       "    <tr>\n",
       "      <th>7</th>\n",
       "      <td>As per your request 'Melle Melle (Oru Minnamin...</td>\n",
       "      <td>a per your request melle melle oru minnaminung...</td>\n",
       "    </tr>\n",
       "    <tr>\n",
       "      <th>8</th>\n",
       "      <td>WINNER!! As a valued network customer you have...</td>\n",
       "      <td>winner a a valued network customer you have be...</td>\n",
       "    </tr>\n",
       "    <tr>\n",
       "      <th>9</th>\n",
       "      <td>Had your mobile 11 months or more? U R entitle...</td>\n",
       "      <td>had your mobile month or more u r entitled to ...</td>\n",
       "    </tr>\n",
       "  </tbody>\n",
       "</table>\n",
       "</div>"
      ],
      "text/plain": [
       "                                             message  \\\n",
       "0  Go until jurong point, crazy.. Available only ...   \n",
       "1                      Ok lar... Joking wif u oni...   \n",
       "2  Free entry in 2 a wkly comp to win FA Cup fina...   \n",
       "3  U dun say so early hor... U c already then say...   \n",
       "4  Nah I don't think he goes to usf, he lives aro...   \n",
       "5  FreeMsg Hey there darling it's been 3 week's n...   \n",
       "6  Even my brother is not like to speak with me. ...   \n",
       "7  As per your request 'Melle Melle (Oru Minnamin...   \n",
       "8  WINNER!! As a valued network customer you have...   \n",
       "9  Had your mobile 11 months or more? U R entitle...   \n",
       "\n",
       "                                     message_cleaned  \n",
       "0  go until jurong point crazy available only in ...  \n",
       "1                            ok lar joking wif u oni  \n",
       "2  free entry in a wkly comp to win fa cup final ...  \n",
       "3        u dun say so early hor u c already then say  \n",
       "4  nah i don t think he go to usf he life around ...  \n",
       "5  freemsg hey there darling it s been week s now...  \n",
       "6  even my brother is not like to speak with me t...  \n",
       "7  a per your request melle melle oru minnaminung...  \n",
       "8  winner a a valued network customer you have be...  \n",
       "9  had your mobile month or more u r entitled to ...  "
      ]
     },
     "execution_count": 33,
     "metadata": {},
     "output_type": "execute_result"
    }
   ],
   "source": [
    "# sms_data = preprocess_text_column(sms_data, 'message')\n",
    "# print(sms_data)\n",
    "\n",
    "sms_data['message_cleaned'] = sms_data['message'].apply(lambda x: message_processed(x))\n",
    "sms_data[['message', 'message_cleaned']].head(10)"
   ]
  },
  {
   "cell_type": "code",
   "execution_count": 34,
   "id": "d2881f17",
   "metadata": {},
   "outputs": [],
   "source": [
    "# sms_data['corpus'] = corpus\n",
    "# sms_data.head()"
   ]
  },
  {
   "cell_type": "code",
   "execution_count": 35,
   "id": "9d92d040",
   "metadata": {},
   "outputs": [
    {
     "name": "stdout",
     "output_type": "stream",
     "text": [
      "    Word  Count\n",
      "0      i   2848\n",
      "1    you   2146\n",
      "2     to   2070\n",
      "3      a   1467\n",
      "4    the   1238\n",
      "5      u   1141\n",
      "6    and    929\n",
      "7     it    897\n",
      "8     in    830\n",
      "9     is    793\n",
      "10    me    754\n",
      "11    my    687\n",
      "12   for    661\n",
      "13  your    623\n",
      "14     s    567\n",
      "15  that    567\n",
      "16    of    560\n",
      "17  call    539\n",
      "18  have    538\n",
      "19    on    493\n",
      "20     t    475\n",
      "21   are    466\n",
      "22   now    450\n",
      "23   can    446\n",
      "24     m    441\n",
      "25    so    440\n",
      "26   but    420\n",
      "27   not    412\n",
      "28    we    393\n",
      "29    or    387\n"
     ]
    },
    {
     "data": {
      "image/png": "[encoded data removed]",
      "text/plain": [
       "<Figure size 1500x500 with 1 Axes>"
      ]
     },
     "metadata": {},
     "output_type": "display_data"
    }
   ],
   "source": [
    "message_word_count(sms_data[\"message_cleaned\"])"
   ]
  },
  {
   "cell_type": "code",
   "execution_count": 36,
   "id": "7f30c98a",
   "metadata": {},
   "outputs": [
    {
     "name": "stdout",
     "output_type": "stream",
     "text": [
      "    Word  Count\n",
      "0      i   2783\n",
      "1    you   1876\n",
      "2     to   1474\n",
      "3      a   1096\n",
      "4    the   1055\n",
      "5      u    976\n",
      "6     it    862\n",
      "7    and    825\n",
      "8     in    759\n",
      "9     me    727\n",
      "10    my    675\n",
      "11    is    649\n",
      "12  that    544\n",
      "13     s    479\n",
      "14    of    478\n",
      "15   for    476\n",
      "16  have    423\n",
      "17    so    421\n",
      "18   can    420\n",
      "19   but    414\n",
      "20     m    398\n",
      "21   are    397\n",
      "22   not    389\n",
      "23     t    383\n",
      "24  your    381\n",
      "25    on    372\n",
      "26    at    360\n",
      "27    do    349\n",
      "28    we    342\n",
      "29    be    326\n"
     ]
    },
    {
     "data": {
      "image/png": "[encoded data removed]",
      "text/plain": [
       "<Figure size 1500x500 with 1 Axes>"
      ]
     },
     "metadata": {},
     "output_type": "display_data"
    }
   ],
   "source": [
    "message_word_count(sms_data[sms_data[\"label\"]==0][\"message_cleaned\"])"
   ]
  },
  {
   "cell_type": "code",
   "execution_count": 37,
   "id": "c7e0cc65",
   "metadata": {},
   "outputs": [
    {
     "name": "stdout",
     "output_type": "stream",
     "text": [
      "      Word  Count\n",
      "0       to    596\n",
      "1        a    371\n",
      "2     call    339\n",
      "3      you    270\n",
      "4     your    242\n",
      "5     free    197\n",
      "6      for    185\n",
      "7      the    183\n",
      "8      now    168\n",
      "9        u    165\n",
      "10      or    160\n",
      "11       p    158\n",
      "12      is    144\n",
      "13     txt    141\n",
      "14    text    128\n",
      "15    from    123\n",
      "16  mobile    121\n",
      "17      on    121\n",
      "18      ur    119\n",
      "19    have    115\n",
      "20    stop    114\n",
      "21     and    104\n",
      "22   claim     98\n",
      "23   reply     98\n",
      "24    with     94\n",
      "25       c     93\n",
      "26       t     92\n",
      "27       s     88\n",
      "28   prize     85\n",
      "29     www     83\n"
     ]
    },
    {
     "data": {
      "image/png": "[encoded data removed]",
      "text/plain": [
       "<Figure size 1500x500 with 1 Axes>"
      ]
     },
     "metadata": {},
     "output_type": "display_data"
    }
   ],
   "source": [
    "message_word_count(sms_data[sms_data[\"label\"]==1][\"message_cleaned\"])"
   ]
  },
  {
   "cell_type": "code",
   "execution_count": 38,
   "id": "7bc57b80",
   "metadata": {},
   "outputs": [],
   "source": [
    "# def clean_text(text):\n",
    "#     text = \"\".join([word.lower() for word in text if word not in string.punctuation])\n",
    "#     tokens = re.findall('\\S+', text)\n",
    "#     # text = [ps.stem(word) for word in tokens if word not in stopwords.words('english')]\n",
    "#     text = [WordNetLemmatizer().lemmatize(word) for word in tokens if word not in stopwords.words('english')]\n",
    "#     return text\n",
    "\n",
    "# # Apply function to body_text\n",
    "# sms_data['cleaned_text'] = sms_data['message'].apply(lambda x: clean_text(x))\n",
    "# sms_data[['message', 'cleaned_text']].head(10)"
   ]
  },
  {
   "cell_type": "code",
   "execution_count": 39,
   "id": "4081cfa5",
   "metadata": {},
   "outputs": [
    {
     "data": {
      "text/html": [
       "<div>\n",
       "<style scoped>\n",
       "    .dataframe tbody tr th:only-of-type {\n",
       "        vertical-align: middle;\n",
       "    }\n",
       "\n",
       "    .dataframe tbody tr th {\n",
       "        vertical-align: top;\n",
       "    }\n",
       "\n",
       "    .dataframe thead th {\n",
       "        text-align: right;\n",
       "    }\n",
       "</style>\n",
       "<table border=\"1\" class=\"dataframe\">\n",
       "  <thead>\n",
       "    <tr style=\"text-align: right;\">\n",
       "      <th></th>\n",
       "      <th>label</th>\n",
       "      <th>message</th>\n",
       "      <th>message_length</th>\n",
       "      <th>message_words_count</th>\n",
       "      <th>message_sentences</th>\n",
       "      <th>message_punctuation</th>\n",
       "      <th>message_cleaned</th>\n",
       "    </tr>\n",
       "  </thead>\n",
       "  <tbody>\n",
       "    <tr>\n",
       "      <th>0</th>\n",
       "      <td>0</td>\n",
       "      <td>Go until jurong point, crazy.. Available only ...</td>\n",
       "      <td>111</td>\n",
       "      <td>24</td>\n",
       "      <td>2</td>\n",
       "      <td>9</td>\n",
       "      <td>go until jurong point crazy available only in ...</td>\n",
       "    </tr>\n",
       "    <tr>\n",
       "      <th>1</th>\n",
       "      <td>0</td>\n",
       "      <td>Ok lar... Joking wif u oni...</td>\n",
       "      <td>29</td>\n",
       "      <td>8</td>\n",
       "      <td>2</td>\n",
       "      <td>6</td>\n",
       "      <td>ok lar joking wif u oni</td>\n",
       "    </tr>\n",
       "    <tr>\n",
       "      <th>2</th>\n",
       "      <td>1</td>\n",
       "      <td>Free entry in 2 a wkly comp to win FA Cup fina...</td>\n",
       "      <td>155</td>\n",
       "      <td>37</td>\n",
       "      <td>2</td>\n",
       "      <td>6</td>\n",
       "      <td>free entry in a wkly comp to win fa cup final ...</td>\n",
       "    </tr>\n",
       "  </tbody>\n",
       "</table>\n",
       "</div>"
      ],
      "text/plain": [
       "   label                                            message  message_length  \\\n",
       "0      0  Go until jurong point, crazy.. Available only ...             111   \n",
       "1      0                      Ok lar... Joking wif u oni...              29   \n",
       "2      1  Free entry in 2 a wkly comp to win FA Cup fina...             155   \n",
       "\n",
       "   message_words_count  message_sentences  message_punctuation  \\\n",
       "0                   24                  2                    9   \n",
       "1                    8                  2                    6   \n",
       "2                   37                  2                    6   \n",
       "\n",
       "                                     message_cleaned  \n",
       "0  go until jurong point crazy available only in ...  \n",
       "1                            ok lar joking wif u oni  \n",
       "2  free entry in a wkly comp to win fa cup final ...  "
      ]
     },
     "execution_count": 39,
     "metadata": {},
     "output_type": "execute_result"
    }
   ],
   "source": [
    "sms_data.head(3)"
   ]
  },
  {
   "cell_type": "markdown",
   "id": "027a6107",
   "metadata": {},
   "source": [
    "##### Modeling"
   ]
  },
  {
   "cell_type": "code",
   "execution_count": 40,
   "id": "462141de",
   "metadata": {},
   "outputs": [],
   "source": [
    "X = sms_data[['message', 'message_length', 'message_words_count', 'message_sentences', 'message_punctuation']]\n",
    "# X = sms_data['message']"
   ]
  },
  {
   "cell_type": "code",
   "execution_count": 41,
   "id": "efb0ee1d",
   "metadata": {},
   "outputs": [
    {
     "data": {
      "text/html": [
       "<div>\n",
       "<style scoped>\n",
       "    .dataframe tbody tr th:only-of-type {\n",
       "        vertical-align: middle;\n",
       "    }\n",
       "\n",
       "    .dataframe tbody tr th {\n",
       "        vertical-align: top;\n",
       "    }\n",
       "\n",
       "    .dataframe thead th {\n",
       "        text-align: right;\n",
       "    }\n",
       "</style>\n",
       "<table border=\"1\" class=\"dataframe\">\n",
       "  <thead>\n",
       "    <tr style=\"text-align: right;\">\n",
       "      <th></th>\n",
       "      <th>message</th>\n",
       "      <th>message_length</th>\n",
       "      <th>message_words_count</th>\n",
       "      <th>message_sentences</th>\n",
       "      <th>message_punctuation</th>\n",
       "    </tr>\n",
       "  </thead>\n",
       "  <tbody>\n",
       "    <tr>\n",
       "      <th>0</th>\n",
       "      <td>Go until jurong point, crazy.. Available only ...</td>\n",
       "      <td>111</td>\n",
       "      <td>24</td>\n",
       "      <td>2</td>\n",
       "      <td>9</td>\n",
       "    </tr>\n",
       "    <tr>\n",
       "      <th>1</th>\n",
       "      <td>Ok lar... Joking wif u oni...</td>\n",
       "      <td>29</td>\n",
       "      <td>8</td>\n",
       "      <td>2</td>\n",
       "      <td>6</td>\n",
       "    </tr>\n",
       "    <tr>\n",
       "      <th>2</th>\n",
       "      <td>Free entry in 2 a wkly comp to win FA Cup fina...</td>\n",
       "      <td>155</td>\n",
       "      <td>37</td>\n",
       "      <td>2</td>\n",
       "      <td>6</td>\n",
       "    </tr>\n",
       "    <tr>\n",
       "      <th>3</th>\n",
       "      <td>U dun say so early hor... U c already then say...</td>\n",
       "      <td>49</td>\n",
       "      <td>13</td>\n",
       "      <td>1</td>\n",
       "      <td>6</td>\n",
       "    </tr>\n",
       "    <tr>\n",
       "      <th>4</th>\n",
       "      <td>Nah I don't think he goes to usf, he lives aro...</td>\n",
       "      <td>61</td>\n",
       "      <td>15</td>\n",
       "      <td>1</td>\n",
       "      <td>2</td>\n",
       "    </tr>\n",
       "  </tbody>\n",
       "</table>\n",
       "</div>"
      ],
      "text/plain": [
       "                                             message  message_length  \\\n",
       "0  Go until jurong point, crazy.. Available only ...             111   \n",
       "1                      Ok lar... Joking wif u oni...              29   \n",
       "2  Free entry in 2 a wkly comp to win FA Cup fina...             155   \n",
       "3  U dun say so early hor... U c already then say...              49   \n",
       "4  Nah I don't think he goes to usf, he lives aro...              61   \n",
       "\n",
       "   message_words_count  message_sentences  message_punctuation  \n",
       "0                   24                  2                    9  \n",
       "1                    8                  2                    6  \n",
       "2                   37                  2                    6  \n",
       "3                   13                  1                    6  \n",
       "4                   15                  1                    2  "
      ]
     },
     "execution_count": 41,
     "metadata": {},
     "output_type": "execute_result"
    }
   ],
   "source": [
    "X.head()"
   ]
  },
  {
   "cell_type": "code",
   "execution_count": 42,
   "id": "a76b9b47",
   "metadata": {},
   "outputs": [],
   "source": [
    "y = sms_data['label']"
   ]
  },
  {
   "cell_type": "code",
   "execution_count": 43,
   "id": "af82a93b",
   "metadata": {},
   "outputs": [
    {
     "data": {
      "text/plain": [
       "0    0\n",
       "1    0\n",
       "2    1\n",
       "3    0\n",
       "4    0\n",
       "Name: label, dtype: int64"
      ]
     },
     "execution_count": 43,
     "metadata": {},
     "output_type": "execute_result"
    }
   ],
   "source": [
    "y.head()"
   ]
  },
  {
   "cell_type": "markdown",
   "id": "f8733a59",
   "metadata": {},
   "source": [
    "##### Train-Test Split"
   ]
  },
  {
   "cell_type": "code",
   "execution_count": 44,
   "id": "5e9fc276",
   "metadata": {},
   "outputs": [],
   "source": [
    "X_train , X_test , y_train , y_test = train_test_split(X , y, test_size = 0.33, random_state = 42)"
   ]
  },
  {
   "cell_type": "code",
   "execution_count": 45,
   "id": "f2aaf379",
   "metadata": {},
   "outputs": [
    {
     "name": "stdout",
     "output_type": "stream",
     "text": [
      "X_train shape: (3463, 5)\n",
      "X_test shape: (1706, 5)\n",
      "y_train shape: (3463,)\n",
      "y_test shape: (1706,)\n"
     ]
    }
   ],
   "source": [
    "print('X_train shape:', X_train.shape)\n",
    "print('X_test shape:', X_test.shape)\n",
    "print('y_train shape:', y_train.shape)\n",
    "print('y_test shape:', y_test.shape)"
   ]
  },
  {
   "cell_type": "code",
   "execution_count": 46,
   "id": "aaae6e60",
   "metadata": {},
   "outputs": [
    {
     "data": {
      "text/html": [
       "<div>\n",
       "<style scoped>\n",
       "    .dataframe tbody tr th:only-of-type {\n",
       "        vertical-align: middle;\n",
       "    }\n",
       "\n",
       "    .dataframe tbody tr th {\n",
       "        vertical-align: top;\n",
       "    }\n",
       "\n",
       "    .dataframe thead th {\n",
       "        text-align: right;\n",
       "    }\n",
       "</style>\n",
       "<table border=\"1\" class=\"dataframe\">\n",
       "  <thead>\n",
       "    <tr style=\"text-align: right;\">\n",
       "      <th></th>\n",
       "      <th>message</th>\n",
       "      <th>message_length</th>\n",
       "      <th>message_words_count</th>\n",
       "      <th>message_sentences</th>\n",
       "      <th>message_punctuation</th>\n",
       "    </tr>\n",
       "  </thead>\n",
       "  <tbody>\n",
       "    <tr>\n",
       "      <th>1942</th>\n",
       "      <td>K...k:)why cant you come here and search job:)</td>\n",
       "      <td>46</td>\n",
       "      <td>15</td>\n",
       "      <td>1</td>\n",
       "      <td>7</td>\n",
       "    </tr>\n",
       "    <tr>\n",
       "      <th>818</th>\n",
       "      <td>Then why you not responding</td>\n",
       "      <td>27</td>\n",
       "      <td>5</td>\n",
       "      <td>1</td>\n",
       "      <td>0</td>\n",
       "    </tr>\n",
       "    <tr>\n",
       "      <th>1327</th>\n",
       "      <td>Ur balance is now å£500. Ur next question is: ...</td>\n",
       "      <td>126</td>\n",
       "      <td>32</td>\n",
       "      <td>4</td>\n",
       "      <td>8</td>\n",
       "    </tr>\n",
       "  </tbody>\n",
       "</table>\n",
       "</div>"
      ],
      "text/plain": [
       "                                                message  message_length  \\\n",
       "1942     K...k:)why cant you come here and search job:)              46   \n",
       "818                         Then why you not responding              27   \n",
       "1327  Ur balance is now å£500. Ur next question is: ...             126   \n",
       "\n",
       "      message_words_count  message_sentences  message_punctuation  \n",
       "1942                   15                  1                    7  \n",
       "818                     5                  1                    0  \n",
       "1327                   32                  4                    8  "
      ]
     },
     "execution_count": 46,
     "metadata": {},
     "output_type": "execute_result"
    }
   ],
   "source": [
    "X_train.head(3)"
   ]
  },
  {
   "cell_type": "code",
   "execution_count": 47,
   "id": "f4a9d1be",
   "metadata": {},
   "outputs": [
    {
     "data": {
      "text/html": [
       "<div>\n",
       "<style scoped>\n",
       "    .dataframe tbody tr th:only-of-type {\n",
       "        vertical-align: middle;\n",
       "    }\n",
       "\n",
       "    .dataframe tbody tr th {\n",
       "        vertical-align: top;\n",
       "    }\n",
       "\n",
       "    .dataframe thead th {\n",
       "        text-align: right;\n",
       "    }\n",
       "</style>\n",
       "<table border=\"1\" class=\"dataframe\">\n",
       "  <thead>\n",
       "    <tr style=\"text-align: right;\">\n",
       "      <th></th>\n",
       "      <th>message</th>\n",
       "      <th>message_length</th>\n",
       "      <th>message_words_count</th>\n",
       "      <th>message_sentences</th>\n",
       "      <th>message_punctuation</th>\n",
       "    </tr>\n",
       "  </thead>\n",
       "  <tbody>\n",
       "    <tr>\n",
       "      <th>1617</th>\n",
       "      <td>Did u download the fring app?</td>\n",
       "      <td>29</td>\n",
       "      <td>7</td>\n",
       "      <td>1</td>\n",
       "      <td>1</td>\n",
       "    </tr>\n",
       "    <tr>\n",
       "      <th>2064</th>\n",
       "      <td>Pass dis to all ur contacts n see wat u get! R...</td>\n",
       "      <td>276</td>\n",
       "      <td>88</td>\n",
       "      <td>9</td>\n",
       "      <td>20</td>\n",
       "    </tr>\n",
       "    <tr>\n",
       "      <th>1272</th>\n",
       "      <td>Ok...</td>\n",
       "      <td>5</td>\n",
       "      <td>2</td>\n",
       "      <td>1</td>\n",
       "      <td>3</td>\n",
       "    </tr>\n",
       "  </tbody>\n",
       "</table>\n",
       "</div>"
      ],
      "text/plain": [
       "                                                message  message_length  \\\n",
       "1617                      Did u download the fring app?              29   \n",
       "2064  Pass dis to all ur contacts n see wat u get! R...             276   \n",
       "1272                                              Ok...               5   \n",
       "\n",
       "      message_words_count  message_sentences  message_punctuation  \n",
       "1617                    7                  1                    1  \n",
       "2064                   88                  9                   20  \n",
       "1272                    2                  1                    3  "
      ]
     },
     "execution_count": 47,
     "metadata": {},
     "output_type": "execute_result"
    }
   ],
   "source": [
    "X_test.head(3)"
   ]
  },
  {
   "cell_type": "code",
   "execution_count": 48,
   "id": "37adaa0d",
   "metadata": {},
   "outputs": [],
   "source": [
    "tfidf_vect = TfidfVectorizer()\n",
    "\n",
    "# Assuming you have a list of text data called 'messages'\n",
    "tfidf_vect = TfidfVectorizer(analyzer=message_processed)\n",
    "\n",
    "# Use 'messages' to fit and transform the TfidfVectorizer\n",
    "# tfidf_matrix = tfidf_vect.fit_transform(messages)\n",
    "# tfidf_vect_fit = tfidf_vect.fit_transform(pd.concat([X_train['message'], X_test['message']], axis=0))\n",
    "tfidf_train = tfidf_vect.fit_transform(X_train['message'])\n",
    "# tfidf_train = tfidf_vect.fit_transform(X_train)\n",
    "tfidf_test = tfidf_vect.transform(X_test['message'])\n",
    "\n",
    "X_train = pd.concat([X_train[['message_length', 'message_words_count', 'message_sentences', 'message_punctuation']].reset_index(drop=True), pd.DataFrame(tfidf_train[:len(X_train)].toarray())], axis=1)\n",
    "X_test = pd.concat([X_test[['message_length', 'message_words_count', 'message_sentences', 'message_punctuation']].reset_index(drop=True), pd.DataFrame(tfidf_test[len(X_train):].toarray())], axis=1)"
   ]
  },
  {
   "cell_type": "code",
   "execution_count": 49,
   "id": "7527923c",
   "metadata": {},
   "outputs": [
    {
     "name": "stdout",
     "output_type": "stream",
     "text": [
      "X_train shape: (3463, 31)\n",
      "X_test shape: (1706, 31)\n",
      "y_train shape: (3463,)\n",
      "y_test shape: (1706,)\n"
     ]
    }
   ],
   "source": [
    "print('X_train shape:', X_train.shape)\n",
    "print('X_test shape:', X_test.shape)\n",
    "print('y_train shape:', y_train.shape)\n",
    "print('y_test shape:', y_test.shape)"
   ]
  },
  {
   "cell_type": "markdown",
   "id": "fb7b5c65",
   "metadata": {},
   "source": [
    "##### Model Building"
   ]
  },
  {
   "cell_type": "code",
   "execution_count": 50,
   "id": "26916a96",
   "metadata": {},
   "outputs": [
    {
     "name": "stdout",
     "output_type": "stream",
     "text": [
      "\n",
      "------ Logistic Regression ------\n",
      "\n",
      "Train Accuracy: 0.9113\n",
      "\n",
      "Test Accuracy: 0.9033\n",
      "\n",
      "Classification Report:\n",
      "              precision    recall  f1-score   support\n",
      "\n",
      "           0       0.91      0.99      0.95      1472\n",
      "           1       0.87      0.35      0.50       234\n",
      "\n",
      "    accuracy                           0.90      1706\n",
      "   macro avg       0.89      0.67      0.72      1706\n",
      "weighted avg       0.90      0.90      0.88      1706\n",
      "\n",
      "\n",
      "Confusion Matrix:\n",
      "[[1460   12]\n",
      " [ 153   81]]\n",
      "\n",
      "------ Decision Tree ------\n",
      "\n",
      "Train Accuracy: 1.0000\n",
      "\n",
      "Test Accuracy: 0.9156\n",
      "\n",
      "Classification Report:\n",
      "              precision    recall  f1-score   support\n",
      "\n",
      "           0       0.95      0.95      0.95      1472\n",
      "           1       0.70      0.68      0.69       234\n",
      "\n",
      "    accuracy                           0.92      1706\n",
      "   macro avg       0.82      0.81      0.82      1706\n",
      "weighted avg       0.91      0.92      0.91      1706\n",
      "\n",
      "\n",
      "Confusion Matrix:\n",
      "[[1404   68]\n",
      " [  76  158]]\n",
      "\n",
      "------ Random Forest ------\n",
      "\n",
      "Train Accuracy: 1.0000\n",
      "\n",
      "Test Accuracy: 0.9484\n",
      "\n",
      "Classification Report:\n",
      "              precision    recall  f1-score   support\n",
      "\n",
      "           0       0.95      0.99      0.97      1472\n",
      "           1       0.95      0.66      0.78       234\n",
      "\n",
      "    accuracy                           0.95      1706\n",
      "   macro avg       0.95      0.83      0.87      1706\n",
      "weighted avg       0.95      0.95      0.94      1706\n",
      "\n",
      "\n",
      "Confusion Matrix:\n",
      "[[1463    9]\n",
      " [  79  155]]\n"
     ]
    }
   ],
   "source": [
    "models = {\n",
    "    'Logistic Regression': LogisticRegression(),\n",
    "    'Decision Tree': DecisionTreeClassifier(),\n",
    "    'Random Forest': RandomForestClassifier()\n",
    "}\n",
    "\n",
    "for name, model in models.items():\n",
    "    model.fit(tfidf_train, y_train)\n",
    "    \n",
    "    y_train_pred=model.predict(tfidf_train)   \n",
    "    y_test_pred = model.predict(tfidf_test)\n",
    "    \n",
    "    train_accuracy=round(accuracy_score(y_train, y_train_pred), 4)\n",
    "    test_accuracy=round(accuracy_score(y_test, y_test_pred), 4)\n",
    "    \n",
    "#    accuracy = accuracy_score(y_test, y_test_pred)\n",
    "    report = classification_report(y_test, y_test_pred)\n",
    "    confusion = confusion_matrix(y_test, y_test_pred)\n",
    "    \n",
    "    print(f\"\\n------ {name} ------\")\n",
    "    print()\n",
    "    print(f\"Train Accuracy: {train_accuracy:.4f}\")\n",
    "    print()\n",
    "    print(f\"Test Accuracy: {test_accuracy:.4f}\")\n",
    "#    print()\n",
    "#    print(f\"Accuracy: {accuracy:.4f}\")\n",
    "    print()\n",
    "    print(f\"Classification Report:\\n{report}\")\n",
    "    print()\n",
    "    print(f\"Confusion Matrix:\\n{confusion}\")\n"
   ]
  },
  {
   "cell_type": "markdown",
   "id": "49c9b5c2",
   "metadata": {},
   "source": [
    "##### Hyperparameter Tunning"
   ]
  },
  {
   "cell_type": "markdown",
   "id": "18069439",
   "metadata": {},
   "source": [
    "__Random Forest Model__"
   ]
  },
  {
   "cell_type": "code",
   "execution_count": 51,
   "id": "c6b23da6",
   "metadata": {},
   "outputs": [
    {
     "name": "stdout",
     "output_type": "stream",
     "text": [
      "Fitting 5 folds for each of 81 candidates, totalling 405 fits\n",
      "\n",
      "------ Best Random Forest Model ------\n",
      "\n",
      "Best Hyperparameters: {'max_depth': None, 'min_samples_leaf': 1, 'min_samples_split': 2, 'n_estimators': 50}\n",
      "\n",
      "Best Cross-Validated Accuracy: 0.9495\n",
      "\n",
      "Train Accuracy: 1.0000\n",
      "\n",
      "Test Accuracy: 0.9478\n",
      "\n",
      "Classification Report:\n",
      "              precision    recall  f1-score   support\n",
      "\n",
      "           0       0.95      1.00      0.97      1472\n",
      "           1       0.96      0.65      0.77       234\n",
      "\n",
      "    accuracy                           0.95      1706\n",
      "   macro avg       0.95      0.82      0.87      1706\n",
      "weighted avg       0.95      0.95      0.94      1706\n",
      "\n",
      "\n",
      "Confusion Matrix:\n",
      "[[1465    7]\n",
      " [  82  152]]\n"
     ]
    }
   ],
   "source": [
    "param_grid = {\n",
    "    'n_estimators': [50, 100, 150],     # Number of trees in the forest\n",
    "    'max_depth': [None, 10, 20],        # Maximum depth of the tree\n",
    "    'min_samples_split': [2, 5, 10],    # Minimum number of samples required to split an internal node\n",
    "    'min_samples_leaf': [1, 2, 4]       # Minimum number of samples required to be at a leaf node\n",
    "}\n",
    "\n",
    "rf_model = RandomForestClassifier(random_state=42)\n",
    "\n",
    "# Use GridSearchCV for hyperparameter tuning\n",
    "grid_search = GridSearchCV(rf_model, param_grid, cv=5, n_jobs=-1, verbose=1)\n",
    "grid_search.fit(tfidf_train, y_train)\n",
    "\n",
    "# Get the best model with the best hyperparameters\n",
    "best_rf_model = grid_search.best_estimator_\n",
    "\n",
    "# Test the best model on the test set\n",
    "y_test_pred = best_rf_model.predict(tfidf_test)\n",
    "\n",
    "# Calculate and print metrics\n",
    "train_accuracy=round(accuracy_score(y_train, y_train_pred), 4)\n",
    "accuracy = accuracy_score(y_test, y_test_pred)\n",
    "report = classification_report(y_test, y_test_pred)\n",
    "confusion = confusion_matrix(y_test, y_test_pred)\n",
    "\n",
    "print(\"\\n------ Best Random Forest Model ------\")\n",
    "print()\n",
    "print(f\"Best Hyperparameters: {grid_search.best_params_}\")\n",
    "print()\n",
    "print(f\"Best Cross-Validated Accuracy: {grid_search.best_score_:.4f}\")\n",
    "print()\n",
    "print(f\"Train Accuracy: {train_accuracy:.4f}\")\n",
    "print()\n",
    "print(f\"Test Accuracy: {accuracy:.4f}\")\n",
    "print()\n",
    "print(f\"Classification Report:\\n{report}\")\n",
    "print()\n",
    "print(f\"Confusion Matrix:\\n{confusion}\")"
   ]
  },
  {
   "cell_type": "markdown",
   "id": "17347b14",
   "metadata": {},
   "source": [
    "__Random Forest Model with best hyperparameters__"
   ]
  },
  {
   "cell_type": "code",
   "execution_count": 52,
   "id": "11f153bf",
   "metadata": {},
   "outputs": [
    {
     "name": "stdout",
     "output_type": "stream",
     "text": [
      "Fitting 5 folds for each of 1 candidates, totalling 5 fits\n",
      "\n",
      "------ Best Random Forest Model ------\n",
      "\n",
      "Best Hyperparameters: {'max_depth': None, 'min_samples_leaf': 1, 'min_samples_split': 2, 'n_estimators': 150}\n",
      "\n",
      "Best Cross-Validated Accuracy: 0.9448\n",
      "\n",
      "Train Accuracy: 1.0000\n",
      "\n",
      "Test Accuracy: 0.9496\n",
      "\n",
      "Classification Report:\n",
      "              precision    recall  f1-score   support\n",
      "\n",
      "           0       0.95      1.00      0.97      1472\n",
      "           1       0.96      0.66      0.78       234\n",
      "\n",
      "    accuracy                           0.95      1706\n",
      "   macro avg       0.95      0.83      0.88      1706\n",
      "weighted avg       0.95      0.95      0.95      1706\n",
      "\n",
      "\n",
      "Confusion Matrix:\n",
      "[[1465    7]\n",
      " [  79  155]]\n"
     ]
    }
   ],
   "source": [
    "param_grid = {\n",
    "    'n_estimators': [150],     # Number of trees in the forest\n",
    "    'max_depth': [None],        # Maximum depth of the tree\n",
    "    'min_samples_split': [2],    # Minimum number of samples required to split an internal node\n",
    "    'min_samples_leaf': [1]       # Minimum number of samples required to be at a leaf node\n",
    "}\n",
    "\n",
    "rf_model = RandomForestClassifier(random_state=42)\n",
    "\n",
    "# Use GridSearchCV for hyperparameter tuning\n",
    "grid_search = GridSearchCV(rf_model, param_grid, cv=5, n_jobs=-1, verbose=1)\n",
    "grid_search.fit(tfidf_train, y_train)\n",
    "\n",
    "# Get the best model with the best hyperparameters\n",
    "best_rf_model = grid_search.best_estimator_\n",
    "\n",
    "# Test the best model on the test set\n",
    "y_test_pred = best_rf_model.predict(tfidf_test)\n",
    "\n",
    "# Calculate and print metrics\n",
    "train_accuracy=round(accuracy_score(y_train, y_train_pred), 4)\n",
    "accuracy = accuracy_score(y_test, y_test_pred)\n",
    "report = classification_report(y_test, y_test_pred)\n",
    "confusion = confusion_matrix(y_test, y_test_pred)\n",
    "\n",
    "print(\"\\n------ Best Random Forest Model ------\")\n",
    "print()\n",
    "print(f\"Best Hyperparameters: {grid_search.best_params_}\")\n",
    "print()\n",
    "print(f\"Best Cross-Validated Accuracy: {grid_search.best_score_:.4f}\")\n",
    "print()\n",
    "print(f\"Train Accuracy: {train_accuracy:.4f}\")\n",
    "print()\n",
    "print(f\"Test Accuracy: {accuracy:.4f}\")\n",
    "print()\n",
    "print(f\"Classification Report:\\n{report}\")\n",
    "print()\n",
    "print(f\"Confusion Matrix:\\n{confusion}\")"
   ]
  }
 ],
 "metadata": {
  "kernelspec": {
   "display_name": "Python 3 (ipykernel)",
   "language": "python",
   "name": "python3"
  },
  "language_info": {
   "codemirror_mode": {
    "name": "ipython",
    "version": 3
   },
   "file_extension": ".py",
   "mimetype": "text/x-python",
   "name": "python",
   "nbconvert_exporter": "python",
   "pygments_lexer": "ipython3",
   "version": "3.9.16"
  }
 },
 "nbformat": 4,
 "nbformat_minor": 5
}
